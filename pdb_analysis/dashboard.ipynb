{
 "cells": [
  {
   "cell_type": "markdown",
   "metadata": {
    "id": "AX6jidin1lig"
   },
   "source": [
    "# Graphs\n"
   ]
  },
  {
   "cell_type": "markdown",
   "metadata": {
    "id": "U38QHYGO1lij",
    "tags": []
   },
   "source": [
    "## Enviroment Set-up"
   ]
  },
  {
   "cell_type": "code",
   "execution_count": 1,
   "metadata": {
    "colab": {
     "base_uri": "https://localhost:8080/"
    },
    "executionInfo": {
     "elapsed": 2739,
     "status": "ok",
     "timestamp": 1674296906916,
     "user": {
      "displayName": "Francesco Madeddu",
      "userId": "17380349419150230175"
     },
     "user_tz": -60
    },
    "id": "JVxq7Un71lij",
    "outputId": "89e84e2e-6475-4f63-e61d-0127a2193283"
   },
   "outputs": [],
   "source": [
    "import sys\n",
    "from dash.dependencies import Input, Output, State\n",
    "from jupyter_dash import JupyterDash\n",
    "import plotly.graph_objects as go\n",
    "\n",
    "from dash_layout import layout\n",
    "from dash import dcc, html\n",
    "import data_handling  \n",
    "import plot_functions\n",
    "import pandas as pd\n",
    "import numpy as np\n",
    "import warnings\n",
    "import json\n",
    "import re\n",
    "import io"
   ]
  },
  {
   "cell_type": "code",
   "execution_count": 2,
   "metadata": {
    "id": "QwualPTP1lik"
   },
   "outputs": [],
   "source": [
    "warnings.filterwarnings(\"ignore\", category=FutureWarning)\n",
    "external_stylesheets = ['https://codepen.io/chriddyp/pen/bWLwgP.css']\n",
    "fig = go.Figure(layout=dict(template='plotly')) ## solves invalid value error from plotly\n",
    "app = JupyterDash(__name__, external_stylesheets=external_stylesheets)"
   ]
  },
  {
   "cell_type": "code",
   "execution_count": 3,
   "metadata": {
    "id": "5iwhbvem1lik"
   },
   "outputs": [],
   "source": [
    "app.layout = layout  ## use the layout setting in dash_layout.py"
   ]
  },
  {
   "cell_type": "markdown",
   "metadata": {
    "id": "5g4VauWT1lil",
    "tags": []
   },
   "source": [
    "## Dashboard callbacks"
   ]
  },
  {
   "cell_type": "code",
   "execution_count": 4,
   "metadata": {
    "id": "kW9VqgpV1lil",
    "tags": []
   },
   "outputs": [],
   "source": [
    "@app.callback(Output('output-json-data-upload', 'data'), \n",
    "              Output('timestamp_num', 'data'),\n",
    "              Output('upload-data-json', 'style'),\n",
    "              Input('upload-data-json','style'),\n",
    "              Input('upload-data-json', 'contents'),\n",
    "              State('upload-data-json', 'filename'),\n",
    "              State('upload-data-json', 'last_modified'))\n",
    "def update_json_output(style,list_of_contents, list_of_names, list_of_dates):\n",
    "    \n",
    "    if list_of_contents is not None:\n",
    "        timestamp_num= 0\n",
    "        data = data_handling.parse_contents(list_of_contents, list_of_names, list_of_dates)\n",
    "        for bondtype in data:\n",
    "            for bond in data[bondtype]:\n",
    "                temp= max([ int(x) for x in data[bondtype][bond]['ps']])\n",
    "                if timestamp_num < temp:\n",
    "                    timestamp_num = temp\n",
    "        style['background-color']='green'\n",
    "        return data,timestamp_num//10,style\n",
    "    else: \n",
    "        fake = '{}'\n",
    "        return json.loads(fake),0,style"
   ]
  },
  {
   "cell_type": "code",
   "execution_count": 5,
   "metadata": {
    "id": "q-iWajqt1lil",
    "tags": []
   },
   "outputs": [],
   "source": [
    "@app.callback(Output('output-csv-data-upload', 'data'),\n",
    "              Output('upload-data-csv', 'style'),\n",
    "              Input('upload-data-csv','style'),\n",
    "              Input('upload-data-csv', 'contents'),\n",
    "              State('upload-data-csv', 'filename'),\n",
    "              State('upload-data-csv', 'last_modified'))\n",
    "def update_csv_output(style, list_of_contents, list_of_names, list_of_dates):\n",
    "    \n",
    "    if list_of_contents is not None:\n",
    "        style['background-color']='green'\n",
    "        return data_handling.parse_contents(list_of_contents, list_of_names, list_of_dates),style\n",
    "    else: \n",
    "        fake = '{}'\n",
    "        return json.loads(fake),style"
   ]
  },
  {
   "cell_type": "code",
   "execution_count": 6,
   "metadata": {
    "id": "lw-mFY8n1lim",
    "tags": []
   },
   "outputs": [],
   "source": [
    "@app.callback(Output('output-csv-rcpt-upload', 'data'),\n",
    "              Output('upload-rcpt-csv', 'style'),\n",
    "              Input('upload-rcpt-csv','style'),\n",
    "              Input('upload-rcpt-csv', 'contents'),\n",
    "              State('upload-rcpt-csv', 'filename'),\n",
    "              State('upload-rcpt-csv', 'last_modified'))\n",
    "def update_csv_output(style,list_of_contents, list_of_names, list_of_dates):\n",
    "    \n",
    "    if list_of_contents is not None:\n",
    "        style['background-color']='green'\n",
    "        return data_handling.parse_contents(list_of_contents, list_of_names, list_of_dates),style\n",
    "    else: \n",
    "        fake = '{}'\n",
    "        return json.loads(fake),style"
   ]
  },
  {
   "cell_type": "code",
   "execution_count": 7,
   "metadata": {
    "id": "RIk3QB2b1lim",
    "tags": []
   },
   "outputs": [],
   "source": [
    "@app.callback(Output('atom', 'options'), Output('mapatoms','data'), Input('output-csv-data-upload', 'data'))\n",
    "def update_lig_dropdown_output(lig_atoms):\n",
    "    if not lig_atoms : return [{\"label\": '', \"value\": ''}], []\n",
    "    lig_atoms =  pd.read_json(lig_atoms, orient='split')\n",
    "    \n",
    "    atoms = lig_atoms[\"ATOM\"].to_list()\n",
    "    mapatoms = dict(zip(lig_atoms[\"ATOM\"], lig_atoms[\"ATOM_ID\"]))\n",
    "    atomops = [{\"label\": atom, \"value\": atom}  for atom in atoms]\n",
    "    return atomops, mapatoms\n",
    "    "
   ]
  },
  {
   "cell_type": "code",
   "execution_count": 8,
   "metadata": {
    "id": "afqOOB4I1lim"
   },
   "outputs": [],
   "source": [
    "@app.callback(Output('recs', 'options'), Input('output-csv-rcpt-upload', 'data'))\n",
    "def update_prot_dropdown_output(res_atoms):\n",
    "    if not res_atoms: return [{\"label\": '', \"value\": ''}]\n",
    "    res_atoms =  pd.read_json(res_atoms, orient='split').drop_duplicates(subset =[\"RES_TYPE\",\"RES_NUM\"],keep='first')\n",
    "    \n",
    "    recs = list(map(lambda x: x[0] + str(x[1]) , zip(res_atoms['RES_TYPE'],  res_atoms['RES_NUM'])))\n",
    "    recsops = [ {\"label\": rec, \"value\": rec} for rec in recs]\n",
    "    return recsops"
   ]
  },
  {
   "cell_type": "markdown",
   "metadata": {
    "id": "qc755rXR1lim",
    "tags": []
   },
   "source": [
    "## Results"
   ]
  },
  {
   "cell_type": "code",
   "execution_count": 9,
   "metadata": {
    "id": "ze2l0jOX1lim"
   },
   "outputs": [],
   "source": [
    "@app.callback(Output(\"bondp\", \"figure\"), Output(\"atoms_permanences_per_bondtype\",\"data\"), [Input('ts_slider', \"value\"), Input('output-json-data-upload', \"data\"), Input('output-csv-data-upload', \"data\"),Input('timestamp_num', \"data\") ])\n",
    "def make_bondp(ts, json_data, lig_atoms, timestamp_num):\n",
    "   \n",
    "    if not lig_atoms  or not json_data : \n",
    "        atoms_permanences_per_bondtype = pd.DataFrame()\n",
    "    else:\n",
    "        lig_atoms =  pd.read_json(lig_atoms, orient='split')\n",
    "        atoms_permanences_per_bondtype = data_handling.get_atoms_permanence(np.asarray(lig_atoms.iloc[:,0:2].astype('str')),json_data , int(timestamp_num))\n",
    "    return plot_functions.atoms_permanence_to_barplot(atoms_permanences_per_bondtype, ts), atoms_permanences_per_bondtype.to_json(date_format='iso', orient='split')"
   ]
  },
  {
   "cell_type": "code",
   "execution_count": 10,
   "metadata": {
    "id": "Edo9GujI1lin"
   },
   "outputs": [],
   "source": [
    "@app.callback(Output(\"prembond\", \"figure\"), Output(\"ligands_intercations_per_bondtype\",\"data\"), [Input('output-json-data-upload', \"data\"), Input('output-csv-data-upload', \"data\")])\n",
    "def make_prembond(json_data, lig_atoms):\n",
    "\n",
    "    if not lig_atoms or not json_data : \n",
    "        ligands_intercations_per_bondtype = pd.DataFrame()\n",
    "    else:\n",
    "        lig_atoms =  pd.read_json(lig_atoms, orient='split')\n",
    "        ligands_intercations_per_bondtype = data_handling.getBondPermanence(json_data , np.asarray(lig_atoms.iloc[:,0:2].astype('str')))\n",
    "\n",
    "        \n",
    "    return plot_functions.permanence_to_bar(ligands_intercations_per_bondtype), ligands_intercations_per_bondtype.to_json(date_format='iso', orient='split')"
   ]
  },
  {
   "cell_type": "code",
   "execution_count": 11,
   "metadata": {
    "id": "3BnX7Eiz1lin",
    "tags": []
   },
   "outputs": [],
   "source": [
    "\n",
    "@app.callback([Output(\"nucleomap\", \"figure\"), Output(\"aminomap\", \"figure\"), Output(\"nuc_csv\",\"data\"), Output(\"ammin_csv\",\"data\")], [Input('bondtype', \"value\"), Input('output-json-data-upload', \"data\"),Input('output-csv-data-upload', \"data\"),Input('timestamp_num', \"data\")])\n",
    "def makeboth(btype,json_data,lig_atoms,timestamp_num):\n",
    "    if lig_atoms and json_data:\n",
    "        lig_atoms =  pd.read_json(lig_atoms, orient='split')\n",
    "        nucleotids, ammin = data_handling.atom_receptor2(json_data, np.asarray(lig_atoms.iloc[:,0:2].astype('str')), btype, int(timestamp_num))\n",
    "    else:\n",
    "        nucleotids = pd.DataFrame()\n",
    "        ammin = pd.DataFrame()\n",
    "    \n",
    "    ntitle = '('+', '.join(btype)+')' if len(btype) < 4 else 'All'\n",
    "    nucl = plot_functions.pltres_lig_heatmap(nucleotids,\"DNA \"+ntitle,int(timestamp_num), min_val=1)\n",
    "    am = plot_functions.pltres_lig_heatmap(ammin,\"aminoacid \"+ntitle,int(timestamp_num), min_val=1)\n",
    "    return nucl, am , nucleotids.to_json(date_format='iso', orient='split'), ammin.to_json(date_format='iso', orient='split')\n"
   ]
  },
  {
   "cell_type": "code",
   "execution_count": 12,
   "metadata": {
    "id": "2crilktf1lin"
   },
   "outputs": [],
   "source": [
    "@app.callback(Output(\"dna-lig-activity\", \"data\") , Output(\"prot-lig-activity\", \"data\"), [Input('inter_slider', \"value\"), Input('output-json-data-upload', \"data\"), Input('output-csv-data-upload', \"data\"),Input('timestamp_num', \"data\")])\n",
    "def make_resactivities(ts, json_data,lig_atoms,timestamp_num):\n",
    "    if not lig_atoms or not json_data: return pd.DataFrame().to_json(date_format='iso', orient='split'),pd.DataFrame().to_json(date_format='iso', orient='split')\n",
    "    lig_atoms =  pd.read_json(lig_atoms, orient='split')\n",
    "    receptors_interaction_timeline = data_handling.atom_receptor_perma(json_data, np.asarray(lig_atoms.iloc[:,0:2].astype('str')), int(timestamp_num))\n",
    "\n",
    "\n",
    "    dna_residues = []\n",
    "    aminoacid_residues = []\n",
    "    for res in receptors_interaction_timeline['Receptor']:\n",
    "        if not re.match('[A-Z]{3}', res): dna_residues.append(res)\n",
    "        else: aminoacid_residues.append(res)\n",
    "        \n",
    "    dna_residues_interaction_timeline = receptors_interaction_timeline[receptors_interaction_timeline.Receptor.isin(dna_residues)]\n",
    "    aminoacid_residues_interaction_timeline = receptors_interaction_timeline[receptors_interaction_timeline.Receptor.isin(aminoacid_residues)]\n",
    "    \n",
    "    return dna_residues_interaction_timeline.to_json(date_format='iso', orient='split'), aminoacid_residues_interaction_timeline.to_json(date_format='iso', orient='split')\n",
    "    \n",
    "    "
   ]
  },
  {
   "cell_type": "code",
   "execution_count": 13,
   "metadata": {
    "id": "4VElH9IY1lin"
   },
   "outputs": [],
   "source": [
    "@app.callback(Output(\"resactivity\", \"figure\"), [Input('inter_slider', \"value\"), Input(\"dna-lig-activity\", \"data\"),Input('timestamp_num', \"data\")])\n",
    "def make_resactivity(ts, json_data, timestamp_num):\n",
    "    if json_data :\n",
    "        data =  pd.read_json(json_data, orient='split')\n",
    "    else: data = pd.DataFrame()\n",
    "    return plot_functions.plt_res_activity(data, int(timestamp_num), threshold=ts)"
   ]
  },
  {
   "cell_type": "code",
   "execution_count": 14,
   "metadata": {
    "id": "cdznxshK1lin"
   },
   "outputs": [],
   "source": [
    "@app.callback(Output(\"resactivityamino\", \"figure\"), [Input('inter_slider', \"value\"), Input(\"prot-lig-activity\", \"data\"),Input('timestamp_num', \"data\")])\n",
    "def make_resactivityamino(ts, json_data,timestamp_num):\n",
    "    if json_data:\n",
    "        data =  pd.read_json(json_data, orient='split')\n",
    "    else: data = pd.DataFrame()\n",
    "    return plot_functions.plt_res_activity(data, int(timestamp_num), threshold=ts)"
   ]
  },
  {
   "cell_type": "code",
   "execution_count": 15,
   "metadata": {
    "id": "n4LN1sK21lin"
   },
   "outputs": [],
   "source": [
    "@app.callback(Output(\"atompermbondtype\", \"figure\"), Output(\"atom_data\",\"data\"), [Input('atom', \"value\"), Input('output-json-data-upload', \"data\"),Input('mapatoms', \"data\"),Input('timestamp_num', \"data\")])\n",
    "def make_atompermbondtype(atom,json_data,mapatoms,timestamp_num):\n",
    "    \n",
    "    if json_data and atom!=None :\n",
    "        bond_permanence = data_handling.permanence_bond(json_data, str(mapatoms[atom]))\n",
    "    else: bond_permanence = pd.DataFrame()\n",
    "       \n",
    "    return plot_functions.plt_res_activity(bond_permanence, int(timestamp_num), threshold=0.1), bond_permanence.to_json(date_format='iso', orient='split')"
   ]
  },
  {
   "cell_type": "code",
   "execution_count": 16,
   "metadata": {
    "id": "GMZQyCYd1lio",
    "tags": []
   },
   "outputs": [],
   "source": [
    "@app.callback(Output(\"atompermbondtype2\", \"figure\"), Output(\"atom_res_data\",\"data\"), [Input('atom', \"value\"), Input('recs', \"value\"),Input('output-json-data-upload', \"data\"),Input('mapatoms', \"data\"),Input('timestamp_num', \"data\")])\n",
    "def make_atompermbondtype2(atom, rec, json_data,mapatoms,timestamp_num):\n",
    "    if json_data!=None and atom!= None and rec!= None:\n",
    "        atom_rec = data_handling.onelig_oneres(json_data,str(mapatoms[atom]), rec, int(timestamp_num))\n",
    "    else: atom_rec = pd.DataFrame()\n",
    "    if atom == None or rec== None : \n",
    "        atom = ''\n",
    "        rec = ''\n",
    "    return plot_functions.plt_res_activity(atom_rec,int(timestamp_num), what=atom+\"-\"+rec, threshold=0),atom_rec.to_json(date_format='iso', orient='split')"
   ]
  },
  {
   "cell_type": "code",
   "execution_count": 17,
   "metadata": {
    "id": "8glUqEhF1lio",
    "tags": []
   },
   "outputs": [],
   "source": [
    "@app.callback(\n",
    "    Output(\"download-bondp-csv\", \"data\"),\n",
    "    Input(\"bondp_csv\", \"n_clicks\"), State(\"atoms_permanences_per_bondtype\",\"data\"),\n",
    "    prevent_initial_call=True,\n",
    ")\n",
    "\n",
    "def func(n_clicks,atoms_permanences_per_bondtype):\n",
    "    return dcc.send_data_frame(pd.read_json(atoms_permanences_per_bondtype, orient='split').to_csv, \"atoms_permanences_per_bondtype.csv\")\n"
   ]
  },
  {
   "cell_type": "code",
   "execution_count": 18,
   "metadata": {
    "id": "rWcvF3x71lio"
   },
   "outputs": [],
   "source": [
    "@app.callback(\n",
    "    Output(\"download-prembond-csv\", \"data\"),\n",
    "    [Input(\"prembond_csv\", \"n_clicks\")], State(\"ligands_intercations_per_bondtype\",\"data\"),\n",
    "    prevent_initial_call=True,\n",
    ")\n",
    "\n",
    "def func(n_clicks,ligands_intercations_per_bondtype):\n",
    "    return dcc.send_data_frame(pd.read_json(ligands_intercations_per_bondtype, orient='split').to_csv, \"ligands_intercations_per_bondtype.csv\")"
   ]
  },
  {
   "cell_type": "code",
   "execution_count": 19,
   "metadata": {
    "id": "jBtFjJUa1lio"
   },
   "outputs": [],
   "source": [
    "@app.callback(\n",
    "    Output(\"download-nucleomap-csv\", \"data\"),\n",
    "    [Input(\"nucleomap_csv\", \"n_clicks\")], State(\"nuc_csv\",\"data\"),\n",
    "    prevent_initial_call=True,\n",
    ")\n",
    "\n",
    "def func(n_clicks,nuc_csv):\n",
    "    return dcc.send_data_frame(pd.read_json(nuc_csv, orient='split').to_csv, \"nucleomap_all.csv\")"
   ]
  },
  {
   "cell_type": "code",
   "execution_count": 20,
   "metadata": {
    "id": "s8dEGOQl1lio"
   },
   "outputs": [],
   "source": [
    "@app.callback(\n",
    "    Output(\"download-aminomap-csv\", \"data\"),\n",
    "    [Input(\"aminomap_csv\", \"n_clicks\")], State(\"ammin_csv\",\"data\"),\n",
    "    prevent_initial_call=True,\n",
    ")\n",
    "\n",
    "def func(n_clicks, ammin):\n",
    "    return dcc.send_data_frame(pd.read_json(ammin, orient='split').to_csv, \"aminomap_all.csv\")"
   ]
  },
  {
   "cell_type": "code",
   "execution_count": 21,
   "metadata": {
    "id": "-zm4FMhy1lio"
   },
   "outputs": [],
   "source": [
    "@app.callback(\n",
    "    Output(\"download-resactivity-csv\", \"data\"),\n",
    "    Input(\"resactivity_csv\", \"n_clicks\"), State(\"dna-lig-activity\",\"data\"),\n",
    "    prevent_initial_call=True,\n",
    ")\n",
    "\n",
    "def func(n_clicks,dnaligactivity):\n",
    "    return dcc.send_data_frame(pd.read_json(dnaligactivity, orient='split').to_csv , \"dna_residues_interaction_timeline.csv\")"
   ]
  },
  {
   "cell_type": "code",
   "execution_count": 22,
   "metadata": {
    "id": "Idw4HEuE1lio",
    "tags": []
   },
   "outputs": [],
   "source": [
    "@app.callback(\n",
    "    Output(\"download-resactivityamino-csv\", \"data\"),\n",
    "    Input(\"resactivityamino_csv\", \"n_clicks\"), State(\"prot-lig-activity\",\"data\"),\n",
    "    prevent_initial_call=True,\n",
    ")\n",
    "\n",
    "def func(n_clicks,protligactivity):\n",
    "    return dcc.send_data_frame(pd.read_json(protligactivity, orient='split').to_csv , \"aminoacid_residues_interaction_timeline.csv\")"
   ]
  },
  {
   "cell_type": "code",
   "execution_count": 23,
   "metadata": {
    "id": "ES9mTNFt1lip"
   },
   "outputs": [],
   "source": [
    "@app.callback(\n",
    "    Output(\"download-atom_activity-csv\", \"data\"),\n",
    "    Input(\"atom_csv\", \"n_clicks\"), State(\"atom_data\",\"data\"),\n",
    "    prevent_initial_call=True,\n",
    ")\n",
    "\n",
    "def func( n_clicks, atom_data):\n",
    "    return dcc.send_data_frame(pd.read_json(atom_data, orient='split').to_csv, \"atom_data.csv\")"
   ]
  },
  {
   "cell_type": "code",
   "execution_count": 24,
   "metadata": {
    "id": "5nj_mEJX1lip"
   },
   "outputs": [],
   "source": [
    "@app.callback(\n",
    "    Output(\"download-atom_res_activity-csv\", \"data\"),\n",
    "    Input(\"atom_res_csv\", \"n_clicks\"), State(\"atom_res_data\",\"data\"),\n",
    "    prevent_initial_call=True,\n",
    ")\n",
    "\n",
    "def func( n_clicks, atom_res_data):\n",
    "    return dcc.send_data_frame(pd.read_json(atom_res_data, orient='split').to_csv, \"atom_res_data.csv\")"
   ]
  },
  {
   "cell_type": "code",
   "execution_count": 25,
   "metadata": {
    "colab": {
     "base_uri": "https://localhost:8080/",
     "height": 53
    },
    "executionInfo": {
     "elapsed": 345,
     "status": "ok",
     "timestamp": 1674296924593,
     "user": {
      "displayName": "Francesco Madeddu",
      "userId": "17380349419150230175"
     },
     "user_tz": -60
    },
    "id": "vNA6XwrI1lip",
    "outputId": "cca0ab4c-ddb5-499f-c645-38d3a51a68e9",
    "tags": []
   },
   "outputs": [
    {
     "name": "stdout",
     "output_type": "stream",
     "text": [
      "Dash app running on http://127.0.0.1:8085/\n"
     ]
    }
   ],
   "source": [
    "app.run_server(mode='external',port=8085)"
   ]
  }
 ],
 "metadata": {
  "colab": {
   "provenance": []
  },
  "kernelspec": {
   "display_name": "Python 3 (ipykernel)",
   "language": "python",
   "name": "python3"
  },
  "language_info": {
   "codemirror_mode": {
    "name": "ipython",
    "version": 3
   },
   "file_extension": ".py",
   "mimetype": "text/x-python",
   "name": "python",
   "nbconvert_exporter": "python",
   "pygments_lexer": "ipython3",
   "version": "3.10.9"
  },
  "vscode": {
   "interpreter": {
    "hash": "916dbcbb3f70747c44a77c7bcd40155683ae19c65e1c03b4aa3499c5328201f1"
   }
  }
 },
 "nbformat": 4,
 "nbformat_minor": 1
}
